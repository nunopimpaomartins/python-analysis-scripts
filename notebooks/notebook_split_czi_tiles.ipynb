{
 "cells": [
  {
   "cell_type": "markdown",
   "metadata": {},
   "source": [
    "# Import packages\n",
    "run the following cell to import necessary packages to run the analysis"
   ]
  },
  {
   "cell_type": "code",
   "execution_count": 30,
   "metadata": {},
   "outputs": [],
   "source": [
    "import os\n",
    "from pathlib import Path\n",
    "from tqdm.notebook import tqdm\n",
    "from bioio import BioImage\n",
    "import bioio_czi\n",
    "from pylibCZIrw import czi as pyczi"
   ]
  },
  {
   "cell_type": "markdown",
   "metadata": {},
   "source": [
    "# Reading data"
   ]
  },
  {
   "cell_type": "code",
   "execution_count": 2,
   "metadata": {},
   "outputs": [
    {
     "name": "stdout",
     "output_type": "stream",
     "text": [
      "22\n"
     ]
    }
   ],
   "source": [
    "data_path = Path('/media/npmartins/Data/nuno_martins/Image_data/NPM_Ex004_Re04/')\n",
    "filelist = os.listdir(data_path)\n",
    "print(len(filelist))"
   ]
  },
  {
   "cell_type": "code",
   "execution_count": 3,
   "metadata": {},
   "outputs": [],
   "source": [
    "filelist = [x for x in filelist if x.find('.czi')>0]\n",
    "filelist.sort()"
   ]
  },
  {
   "cell_type": "code",
   "execution_count": 34,
   "metadata": {},
   "outputs": [
    {
     "name": "stdout",
     "output_type": "stream",
     "text": [
      "/media/npmartins/Data/nuno_martins/Image_data/NPM_Ex004_Re04/NPM_Ex004_Re04_hexa2_gel2_tiles_20x.czi\n",
      "NPM_Ex004_Re04_hexa2_gel2_tiles_20x\n"
     ]
    }
   ],
   "source": [
    "file_index = len(filelist)-1\n",
    "file_path = str(data_path)+'/'+filelist[file_index]\n",
    "filename = filelist[file_index][:filelist[file_index].index('.czi')]\n",
    "print(file_path)\n",
    "print(filename)"
   ]
  },
  {
   "cell_type": "code",
   "execution_count": 36,
   "metadata": {},
   "outputs": [],
   "source": [
    "# save_path = str(data_path)+'/tiles/'\n",
    "parent_save_path = Path(str(data_path)+'/tiles/')\n",
    "parent_save_path.mkdir(parents=True, exist_ok=False)"
   ]
  },
  {
   "cell_type": "markdown",
   "metadata": {},
   "source": [
    "___\n",
    "# Read raw data\n",
    "reading raw tile data from `czi` tile without stitching for visualization."
   ]
  },
  {
   "cell_type": "code",
   "execution_count": 6,
   "metadata": {},
   "outputs": [
    {
     "data": {
      "text/plain": [
       "(<Dimensions [M: 20, T: 1, C: 4, Z: 1, Y: 512, X: 512]>, 'MTCZYX')"
      ]
     },
     "execution_count": 6,
     "metadata": {},
     "output_type": "execute_result"
    }
   ],
   "source": [
    "img = BioImage(file_path, reader=bioio_czi.Reader, reconstruct_mosaic=False)\n",
    "img.dims, img.dims.order"
   ]
  },
  {
   "cell_type": "code",
   "execution_count": 19,
   "metadata": {},
   "outputs": [
    {
     "data": {
      "text/plain": [
       "((20, 1, 4, 1, 512, 512), 15)"
      ]
     },
     "execution_count": 19,
     "metadata": {},
     "output_type": "execute_result"
    }
   ],
   "source": [
    "img.shape, len(img.scenes)"
   ]
  },
  {
   "cell_type": "code",
   "execution_count": 21,
   "metadata": {},
   "outputs": [
    {
     "name": "stdout",
     "output_type": "stream",
     "text": [
      "<Dimensions [M: 20, T: 1, C: 4, Z: 1, Y: 512, X: 512]>\n",
      "<Dimensions [M: 9, T: 1, C: 4, Z: 1, Y: 512, X: 512]>\n",
      "<Dimensions [M: 26, T: 1, C: 4, Z: 1, Y: 512, X: 512]>\n",
      "<Dimensions [M: 23, T: 1, C: 4, Z: 1, Y: 512, X: 512]>\n",
      "<Dimensions [M: 20, T: 1, C: 4, Z: 1, Y: 512, X: 512]>\n",
      "<Dimensions [M: 16, T: 1, C: 4, Z: 1, Y: 512, X: 512]>\n",
      "<Dimensions [M: 33, T: 1, C: 4, Z: 1, Y: 512, X: 512]>\n",
      "<Dimensions [M: 21, T: 1, C: 4, Z: 1, Y: 512, X: 512]>\n",
      "<Dimensions [M: 81, T: 1, C: 4, Z: 1, Y: 512, X: 512]>\n",
      "<Dimensions [M: 23, T: 1, C: 4, Z: 1, Y: 512, X: 512]>\n",
      "<Dimensions [M: 31, T: 1, C: 4, Z: 1, Y: 512, X: 512]>\n",
      "<Dimensions [M: 8, T: 1, C: 4, Z: 1, Y: 512, X: 512]>\n",
      "<Dimensions [M: 12, T: 1, C: 4, Z: 1, Y: 512, X: 512]>\n",
      "<Dimensions [M: 23, T: 1, C: 4, Z: 1, Y: 512, X: 512]>\n",
      "<Dimensions [M: 15, T: 1, C: 4, Z: 1, Y: 512, X: 512]>\n"
     ]
    }
   ],
   "source": [
    "# img.scenes\n",
    "for scene in img.scenes:\n",
    "    img.set_scene(scene)\n",
    "    print(img.dims)"
   ]
  },
  {
   "cell_type": "code",
   "execution_count": 22,
   "metadata": {},
   "outputs": [],
   "source": [
    "def getDimensionPosition(dimension_order, dimension_name):\n",
    "    return dimension_order.index(dimension_name)"
   ]
  },
  {
   "cell_type": "code",
   "execution_count": 48,
   "metadata": {},
   "outputs": [
    {
     "data": {
      "application/vnd.jupyter.widget-view+json": {
       "model_id": "8f72b32d1085494db44947142e83ed55",
       "version_major": 2,
       "version_minor": 0
      },
      "text/plain": [
       "  0%|          | 0/15 [00:00<?, ?it/s]"
      ]
     },
     "metadata": {},
     "output_type": "display_data"
    }
   ],
   "source": [
    "for scene in tqdm(img.scenes):\n",
    "    img.set_scene(scene)\n",
    "    # print(scene)\n",
    "    # print(img.shape)\n",
    "\n",
    "    save_path = Path(str(parent_save_path)+'/'+filename+'_'+str(scene)+'/')\n",
    "    save_path.mkdir(parents=True, exist_ok=True)\n",
    "    \n",
    "    image_data = img.data\n",
    "    n_tiles = image_data.shape[getDimensionPosition(img.dims.order, 'M')]\n",
    "    for n in range(n_tiles):\n",
    "        tile = image_data[n]\n",
    "        \n",
    "        tile_save_name = str(save_path)+'/'+filename+'_'+str(scene)+\"_\"+str(n+1).zfill(2)+'.czi'\n",
    "        with pyczi.create_czi(tile_save_name, exist_ok=True) as czidoc_w:\n",
    "            for t in range(image_data.shape[getDimensionPosition(img.dims.order, 'T')]):\n",
    "                for c in range(image_data.shape[getDimensionPosition(img.dims.order, 'C')]):\n",
    "                    for z in range(image_data.shape[getDimensionPosition(img.dims.order, 'Z')]):\n",
    "                        czidoc_w.write(\n",
    "                            data=tile[t, c, z, ...],\n",
    "                            plane={\"T\": t, \"C\": c, \"Z\": z}\n",
    "                        )\n"
   ]
  },
  {
   "cell_type": "code",
   "execution_count": null,
   "metadata": {},
   "outputs": [],
   "source": []
  }
 ],
 "metadata": {
  "kernelspec": {
   "display_name": "pytests",
   "language": "python",
   "name": "python3"
  },
  "language_info": {
   "codemirror_mode": {
    "name": "ipython",
    "version": 3
   },
   "file_extension": ".py",
   "mimetype": "text/x-python",
   "name": "python",
   "nbconvert_exporter": "python",
   "pygments_lexer": "ipython3",
   "version": "3.10.14"
  }
 },
 "nbformat": 4,
 "nbformat_minor": 2
}
